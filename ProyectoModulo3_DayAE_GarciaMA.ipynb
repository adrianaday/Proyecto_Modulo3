{
 "cells": [
  {
   "cell_type": "code",
   "execution_count": null,
   "metadata": {
    "collapsed": true
   },
   "outputs": [],
   "source": [
    "### Proyecto simulación de escenarios futuros de precios\n",
    "\n",
    "Por: \n",
    "\n",
    "Integrante 1 :Adriana Elizabeth Day Morales.\n",
    "\n",
    "Integrante 2: Mario Abel García Verduzco.\n",
    "\n",
    "Repositorio remoto: https://github.com/adrianaday/Proyecto_Modulo2\n",
    "\n",
    " \n",
    "##### Descripción General\n",
    "\n",
    "-Una aplicación de un sistema no linear de ecuacion diferenciales en un ambiente matemático/biológico seria el modelo de la relación predador-presa de un ecosistema. En clase vimos la clásica ecuación propuesta por Lotka-Volterra \n",
    " \n",
    "$$\\frac{dx}{dt} = a\\; x\\;- b\\;x\\;y\\; $$\n",
    "\n",
    "$$\\frac{dy}{dt} = c\\; x\\;- d\\;x\\;y\\;$$\n",
    "\n",
    "Una desventaja de este modelo es que la población de la presa crecería sin restricciones en la ausencia de predador ( y\\; = 0). Esto es un modelo idealista pero no realista. A continuación expondremos 3 variantes a este problema. \n",
    "\n",
    "\n",
    "Cabe destacar que trataremos a *$x$* como la especie presa y a *$y$*  cómo la especie predador en todos los casos\n",
    "\n",
    "\n",
    "##### Objetivo General \n",
    "\n",
    "- Determinar el comportamiento de diferentes especies en determinadas circunstancias:\n",
    "\n",
    "    -En el caso de que la presa sea puramente herbívoro y el depredador sobreviva solamente por la existencia de la presa.\n",
    "    \n",
    "    -En el caso de que la presa sea puramente herbívoro y el depredador omnívoro, es decir, su alimentacion no dependa solamente de la presa.\n",
    "    \n",
    "    -En el caso de un ecosistema cerrado con 3 especies, las cuales se comportan como una cadena. \n",
    "\n",
    "\n",
    "##### Objetivos Específicos\n",
    "\n",
    "- Obtención de ecuaciones \n",
    "- Mostrar la gráfica de los 3 modelos, herbívoro-presa, herbívoro-omnívoro y cadena alimenticia\n",
    "- Determinar como se comportan las especies en el tiempo, dadas las condiciones iniciales y las características del ecosistema y animales.\n",
    "- Marcar las restricciones, es decir, que limitantes tienen los modelos."
   ]
  }
 ],
 "metadata": {
  "kernelspec": {
   "display_name": "Python 3",
   "language": "python",
   "name": "python3"
  },
  "language_info": {
   "codemirror_mode": {
    "name": "ipython",
    "version": 3
   },
   "file_extension": ".py",
   "mimetype": "text/x-python",
   "name": "python",
   "nbconvert_exporter": "python",
   "pygments_lexer": "ipython3",
   "version": "3.6.1"
  }
 },
 "nbformat": 4,
 "nbformat_minor": 2
}
