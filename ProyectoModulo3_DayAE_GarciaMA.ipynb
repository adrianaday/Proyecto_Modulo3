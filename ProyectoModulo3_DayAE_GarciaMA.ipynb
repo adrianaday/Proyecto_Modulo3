{
 "cells": [
  {
   "cell_type": "markdown",
   "metadata": {},
   "source": [
    "### Proyecto: Simulación de escenarios futuros de precios\n",
    "\n",
    "Por: \n",
    "\n",
    "Integrante 1 :Adriana Elizabeth Day Morales.\n",
    "\n",
    "Integrante 2: Mario Abel García Verduzco.\n",
    "\n",
    "Repositorio remoto: https://github.com/marioabel96/Proyecto_Modulo3\n",
    "\n",
    " \n",
    "##### Descripción General\n",
    "\n",
    "- Pronosticaremos escenarios de evolución de precios para lo que resta del año en las criptomonedas con mayor capitalización de mercado, suponiendo que los rendimientos diarios se distribuyen normalmente. Como la evolución de precios es aleatoria, utilizaremos la simulación Montecarlo para obtener probabilidades de que los  precios de cierre estén encima de un valor umbral y tomar decisiones en base a estas.\n",
    "\n",
    "Cabe destacar que valoraremos los activos considerando solo sus precios y no sus características individuales en la realización de este análisis.\n",
    "\n",
    "\n",
    "##### Objetivo General \n",
    "\n",
    "- Determinar los rendimientos, precios y la probabilidad de Los precios de cierre arriba del umbral en cada uno de los activos y en base estos datos tomar una decisión de inversión:\n",
    "\n",
    "    -En el caso Bitcoin (BTC).\n",
    "    \n",
    "    -En el caso Ethereum (ETH).\n",
    "    \n",
    "    -En el caso Ripple (XRP). \n",
    "\n",
    "\n",
    "##### Objetivos Específicos\n",
    "\n",
    "- Obtención de datos de Yahoo Finance \n",
    "- Mostrar la gráfica de los precios respecto al tiempo.\n",
    "- Obtener los rendimientos diarios apartir de los precios de cierre y mostrar gráficos.\n",
    "- Proyección de los precios de cierre y mostrar gráficos.\n",
    "- Mostrar y calcular la probabilidad  de que los precios estén sobre el umbral."
   ]
  },
  {
   "cell_type": "markdown",
   "metadata": {},
   "source": [
    "## Obtención de datos en Yahoo Finance\n"
   ]
  },
  {
   "cell_type": "code",
   "execution_count": null,
   "metadata": {
    "collapsed": true
   },
   "outputs": [],
   "source": [
    "# Importamos librerías\n",
    "import numpy as np\n",
    "import pandas as pd\n",
    "import matplotlib.pyplot as plt\n",
    "import pandas_datareader.data as web\n",
    "%matplotlib inline"
   ]
  },
  {
   "cell_type": "code",
   "execution_count": 4,
   "metadata": {
    "collapsed": true
   },
   "outputs": [],
   "source": [
    "def get_historical_closes(ticker, start_date, end_date=None):\n",
    "    closes = web.YahooDailyReader(ticker, start_date, end_date).read()\n",
    "    return pd.DataFrame(closes.loc[:, 'Adj Close'])\n",
    "\n"
   ]
  },
  {
   "cell_type": "code",
   "execution_count": null,
   "metadata": {
    "collapsed": true
   },
   "outputs": [],
   "source": [
    "# Descargamos datos...\n",
    "# Instrumento: BITCOIN\n",
    "ticker = 'BTC-USD'\n",
    "# Fechas de interés (inicio 2017 y fin Mayo 2018)\n",
    "start_date = '2017-01-01'\n",
    "end_date = '2018-05-07'\n",
    "# Función DataReader\n",
    "closesbtc = get_historical_closes(ticker, start_date, end_date)"
   ]
  },
  {
   "cell_type": "code",
   "execution_count": null,
   "metadata": {
    "collapsed": true
   },
   "outputs": [],
   "source": [
    "closesbtc.plot(figsize=(8,6));"
   ]
  },
  {
   "cell_type": "code",
   "execution_count": null,
   "metadata": {
    "collapsed": true
   },
   "outputs": [],
   "source": [
    "# Instrumento: Ethereum\n",
    "ticker = 'ETH-USD'\n",
    "# Fechas de interés (inicio 2017 y fin Mayo 2018)\n",
    "start_date = '2017-01-01'\n",
    "end_date = '2018-05-07'\n",
    "# Función DataReader\n",
    "closeseth = get_historical_closes(ticker, start_date, end_date)"
   ]
  },
  {
   "cell_type": "code",
   "execution_count": null,
   "metadata": {
    "collapsed": true
   },
   "outputs": [],
   "source": [
    "# Instrumento: Ripple\n",
    "ticker = 'XRP-USD'\n",
    "# Fechas de interés (inicio 2017 y fin Mayo 2018)\n",
    "start_date = '2017-01-01'\n",
    "end_date = '2018-05-07'\n",
    "# Función DataReader\n",
    "closesxrp = get_historical_closes(ticker, start_date, end_date)"
   ]
  },
  {
   "cell_type": "code",
   "execution_count": null,
   "metadata": {
    "collapsed": true
   },
   "outputs": [],
   "source": [
    "\n",
    "\n"
   ]
  },
  {
   "cell_type": "code",
   "execution_count": null,
   "metadata": {
    "collapsed": true
   },
   "outputs": [],
   "source": []
  }
 ],
 "metadata": {
  "kernelspec": {
   "display_name": "Python 3",
   "language": "python",
   "name": "python3"
  },
  "language_info": {
   "codemirror_mode": {
    "name": "ipython",
    "version": 3
   },
   "file_extension": ".py",
   "mimetype": "text/x-python",
   "name": "python",
   "nbconvert_exporter": "python",
   "pygments_lexer": "ipython3",
   "version": "3.6.1"
  }
 },
 "nbformat": 4,
 "nbformat_minor": 2
}
